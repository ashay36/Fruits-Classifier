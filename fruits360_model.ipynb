{
  "nbformat": 4,
  "nbformat_minor": 0,
  "metadata": {
    "colab": {
      "name": "fruits360_model.ipynb",
      "provenance": [],
      "collapsed_sections": []
    },
    "kernelspec": {
      "name": "python3",
      "display_name": "Python 3"
    },
    "accelerator": "GPU"
  },
  "cells": [
    {
      "cell_type": "code",
      "metadata": {
        "id": "g5riX7b1f7up",
        "colab_type": "code",
        "colab": {}
      },
      "source": [
        "import numpy as np\n",
        "import matplotlib.pyplot as plt\n",
        "import os\n",
        "import zipfile\n",
        "from tensorflow.keras.models import Sequential\n",
        "from tensorflow.keras.layers import Conv2D, MaxPooling2D, Dense, Flatten, Dropout, BatchNormalization, LeakyReLU\n",
        "from tensorflow.keras.optimizers import RMSprop\n",
        "from tensorflow.keras.preprocessing.image import ImageDataGenerator\n",
        "from tensorflow.keras.callbacks import ModelCheckpoint, EarlyStopping\n",
        "from tensorflow.keras.applications.vgg19 import VGG19"
      ],
      "execution_count": 0,
      "outputs": []
    },
    {
      "cell_type": "code",
      "metadata": {
        "id": "YXCMc8ilkRfw",
        "colab_type": "code",
        "colab": {}
      },
      "source": [
        "local_zip = '/gdrive/My Drive/fruits.zip'\n",
        "zip_ref = zipfile.ZipFile(local_zip, 'r')\n",
        "zip_ref.extractall('/tmp')\n",
        "zip_ref.close()"
      ],
      "execution_count": 0,
      "outputs": []
    },
    {
      "cell_type": "code",
      "metadata": {
        "id": "1teoU8qIle9s",
        "colab_type": "code",
        "colab": {}
      },
      "source": [
        "base_dir = '/tmp/fruits-360_dataset/fruits-360'\n",
        "\n",
        "train_dir = os.path.join(base_dir, 'Training')\n",
        "val_dir = os.path.join(base_dir, 'Test')"
      ],
      "execution_count": 0,
      "outputs": []
    },
    {
      "cell_type": "code",
      "metadata": {
        "id": "viK2f7Ci-nTl",
        "colab_type": "code",
        "outputId": "571f9ec7-453a-48ad-d41b-f8216f14e946",
        "colab": {
          "base_uri": "https://localhost:8080/",
          "height": 955
        }
      },
      "source": [
        "input_shape = (150, 150, 3)\n",
        "\n",
        "vgg = VGG19(input_shape = input_shape, weights = 'imagenet', include_top = False)\n",
        "\n",
        "vgg.summary()"
      ],
      "execution_count": 0,
      "outputs": [
        {
          "output_type": "stream",
          "text": [
            "Downloading data from https://storage.googleapis.com/tensorflow/keras-applications/vgg19/vgg19_weights_tf_dim_ordering_tf_kernels_notop.h5\n",
            "80142336/80134624 [==============================] - 1s 0us/step\n",
            "Model: \"vgg19\"\n",
            "_________________________________________________________________\n",
            "Layer (type)                 Output Shape              Param #   \n",
            "=================================================================\n",
            "input_1 (InputLayer)         [(None, 150, 150, 3)]     0         \n",
            "_________________________________________________________________\n",
            "block1_conv1 (Conv2D)        (None, 150, 150, 64)      1792      \n",
            "_________________________________________________________________\n",
            "block1_conv2 (Conv2D)        (None, 150, 150, 64)      36928     \n",
            "_________________________________________________________________\n",
            "block1_pool (MaxPooling2D)   (None, 75, 75, 64)        0         \n",
            "_________________________________________________________________\n",
            "block2_conv1 (Conv2D)        (None, 75, 75, 128)       73856     \n",
            "_________________________________________________________________\n",
            "block2_conv2 (Conv2D)        (None, 75, 75, 128)       147584    \n",
            "_________________________________________________________________\n",
            "block2_pool (MaxPooling2D)   (None, 37, 37, 128)       0         \n",
            "_________________________________________________________________\n",
            "block3_conv1 (Conv2D)        (None, 37, 37, 256)       295168    \n",
            "_________________________________________________________________\n",
            "block3_conv2 (Conv2D)        (None, 37, 37, 256)       590080    \n",
            "_________________________________________________________________\n",
            "block3_conv3 (Conv2D)        (None, 37, 37, 256)       590080    \n",
            "_________________________________________________________________\n",
            "block3_conv4 (Conv2D)        (None, 37, 37, 256)       590080    \n",
            "_________________________________________________________________\n",
            "block3_pool (MaxPooling2D)   (None, 18, 18, 256)       0         \n",
            "_________________________________________________________________\n",
            "block4_conv1 (Conv2D)        (None, 18, 18, 512)       1180160   \n",
            "_________________________________________________________________\n",
            "block4_conv2 (Conv2D)        (None, 18, 18, 512)       2359808   \n",
            "_________________________________________________________________\n",
            "block4_conv3 (Conv2D)        (None, 18, 18, 512)       2359808   \n",
            "_________________________________________________________________\n",
            "block4_conv4 (Conv2D)        (None, 18, 18, 512)       2359808   \n",
            "_________________________________________________________________\n",
            "block4_pool (MaxPooling2D)   (None, 9, 9, 512)         0         \n",
            "_________________________________________________________________\n",
            "block5_conv1 (Conv2D)        (None, 9, 9, 512)         2359808   \n",
            "_________________________________________________________________\n",
            "block5_conv2 (Conv2D)        (None, 9, 9, 512)         2359808   \n",
            "_________________________________________________________________\n",
            "block5_conv3 (Conv2D)        (None, 9, 9, 512)         2359808   \n",
            "_________________________________________________________________\n",
            "block5_conv4 (Conv2D)        (None, 9, 9, 512)         2359808   \n",
            "_________________________________________________________________\n",
            "block5_pool (MaxPooling2D)   (None, 4, 4, 512)         0         \n",
            "=================================================================\n",
            "Total params: 20,024,384\n",
            "Trainable params: 20,024,384\n",
            "Non-trainable params: 0\n",
            "_________________________________________________________________\n"
          ],
          "name": "stdout"
        }
      ]
    },
    {
      "cell_type": "code",
      "metadata": {
        "id": "Ot5NnaaO_K_S",
        "colab_type": "code",
        "outputId": "6a86ea88-9946-4780-83a4-473b873b8ae0",
        "colab": {
          "base_uri": "https://localhost:8080/",
          "height": 411
        }
      },
      "source": [
        "for layer in vgg.layers[:-4]:\n",
        "  layer.trainable = False \n",
        "\n",
        "for layer in vgg.layers:\n",
        "  print(layer, layer.trainable)  "
      ],
      "execution_count": 0,
      "outputs": [
        {
          "output_type": "stream",
          "text": [
            "<tensorflow.python.keras.engine.input_layer.InputLayer object at 0x7feec2078668> False\n",
            "<tensorflow.python.keras.layers.convolutional.Conv2D object at 0x7feec2024550> False\n",
            "<tensorflow.python.keras.layers.convolutional.Conv2D object at 0x7feec2024898> False\n",
            "<tensorflow.python.keras.layers.pooling.MaxPooling2D object at 0x7feec17e5438> False\n",
            "<tensorflow.python.keras.layers.convolutional.Conv2D object at 0x7fef23fe1198> False\n",
            "<tensorflow.python.keras.layers.convolutional.Conv2D object at 0x7feeb0581ef0> False\n",
            "<tensorflow.python.keras.layers.pooling.MaxPooling2D object at 0x7feeb0588898> False\n",
            "<tensorflow.python.keras.layers.convolutional.Conv2D object at 0x7feeb0591198> False\n",
            "<tensorflow.python.keras.layers.convolutional.Conv2D object at 0x7feeb05994e0> False\n",
            "<tensorflow.python.keras.layers.convolutional.Conv2D object at 0x7feeb05a06a0> False\n",
            "<tensorflow.python.keras.layers.convolutional.Conv2D object at 0x7feeb05a85c0> False\n",
            "<tensorflow.python.keras.layers.pooling.MaxPooling2D object at 0x7feeb05b04e0> False\n",
            "<tensorflow.python.keras.layers.convolutional.Conv2D object at 0x7feeb05b0358> False\n",
            "<tensorflow.python.keras.layers.convolutional.Conv2D object at 0x7feeb05376a0> False\n",
            "<tensorflow.python.keras.layers.convolutional.Conv2D object at 0x7feeb053f860> False\n",
            "<tensorflow.python.keras.layers.convolutional.Conv2D object at 0x7feeb0545780> False\n",
            "<tensorflow.python.keras.layers.pooling.MaxPooling2D object at 0x7feeb054b6a0> False\n",
            "<tensorflow.python.keras.layers.convolutional.Conv2D object at 0x7feeb054b518> False\n",
            "<tensorflow.python.keras.layers.convolutional.Conv2D object at 0x7feeb0551860> True\n",
            "<tensorflow.python.keras.layers.convolutional.Conv2D object at 0x7feeb055aa20> True\n",
            "<tensorflow.python.keras.layers.convolutional.Conv2D object at 0x7feeb0561940> True\n",
            "<tensorflow.python.keras.layers.pooling.MaxPooling2D object at 0x7feeb0569860> True\n"
          ],
          "name": "stdout"
        }
      ]
    },
    {
      "cell_type": "code",
      "metadata": {
        "id": "ndydEQWhmEuG",
        "colab_type": "code",
        "outputId": "696b2bff-c35e-4176-a873-d84ee4165906",
        "colab": {
          "base_uri": "https://localhost:8080/",
          "height": 683
        }
      },
      "source": [
        "model = Sequential()\n",
        "model.add(vgg)\n",
        "\n",
        "model.add(Conv2D(256, (3, 3)))\n",
        "model.add(LeakyReLU())\n",
        "model.add(BatchNormalization())\n",
        "model.add(MaxPooling2D(2, 2))\n",
        "\n",
        "model.add(Flatten())\n",
        "\n",
        "model.add(Dense(256))\n",
        "model.add(LeakyReLU())\n",
        "model.add(BatchNormalization())\n",
        "model.add(Dropout(0.5))\n",
        "\n",
        "model.add(Dense(128))\n",
        "model.add(LeakyReLU())\n",
        "model.add(BatchNormalization())\n",
        "model.add(Dropout(0.5))\n",
        "\n",
        "model.add(Dense(120, activation = \"softmax\"))\n",
        "\n",
        "model.summary()"
      ],
      "execution_count": 0,
      "outputs": [
        {
          "output_type": "stream",
          "text": [
            "Model: \"sequential\"\n",
            "_________________________________________________________________\n",
            "Layer (type)                 Output Shape              Param #   \n",
            "=================================================================\n",
            "vgg19 (Model)                (None, 4, 4, 512)         20024384  \n",
            "_________________________________________________________________\n",
            "conv2d (Conv2D)              (None, 2, 2, 256)         1179904   \n",
            "_________________________________________________________________\n",
            "leaky_re_lu (LeakyReLU)      (None, 2, 2, 256)         0         \n",
            "_________________________________________________________________\n",
            "batch_normalization (BatchNo (None, 2, 2, 256)         1024      \n",
            "_________________________________________________________________\n",
            "max_pooling2d (MaxPooling2D) (None, 1, 1, 256)         0         \n",
            "_________________________________________________________________\n",
            "flatten (Flatten)            (None, 256)               0         \n",
            "_________________________________________________________________\n",
            "dense (Dense)                (None, 256)               65792     \n",
            "_________________________________________________________________\n",
            "leaky_re_lu_1 (LeakyReLU)    (None, 256)               0         \n",
            "_________________________________________________________________\n",
            "batch_normalization_1 (Batch (None, 256)               1024      \n",
            "_________________________________________________________________\n",
            "dropout (Dropout)            (None, 256)               0         \n",
            "_________________________________________________________________\n",
            "dense_1 (Dense)              (None, 128)               32896     \n",
            "_________________________________________________________________\n",
            "leaky_re_lu_2 (LeakyReLU)    (None, 128)               0         \n",
            "_________________________________________________________________\n",
            "batch_normalization_2 (Batch (None, 128)               512       \n",
            "_________________________________________________________________\n",
            "dropout_1 (Dropout)          (None, 128)               0         \n",
            "_________________________________________________________________\n",
            "dense_2 (Dense)              (None, 120)               15480     \n",
            "=================================================================\n",
            "Total params: 21,321,016\n",
            "Trainable params: 8,374,776\n",
            "Non-trainable params: 12,946,240\n",
            "_________________________________________________________________\n"
          ],
          "name": "stdout"
        }
      ]
    },
    {
      "cell_type": "code",
      "metadata": {
        "id": "s6luxXc4p6Rx",
        "colab_type": "code",
        "outputId": "2d87f2e8-1b22-46d6-8271-c49c29e68607",
        "colab": {
          "base_uri": "https://localhost:8080/",
          "height": 71
        }
      },
      "source": [
        "train_datagen = ImageDataGenerator(\n",
        "    rescale = 1./255,\n",
        "    rotation_range = 30,\n",
        "    width_shift_range = 0.2,\n",
        "    height_shift_range = 0.2,\n",
        "    vertical_flip = True,\n",
        "    fill_mode = 'nearest'\n",
        ")\n",
        "\n",
        "val_datagen = ImageDataGenerator(rescale = 1./255)\n",
        "\n",
        "train_generator = train_datagen.flow_from_directory(\n",
        "    train_dir,\n",
        "    target_size = (150, 150),\n",
        "    batch_size = 256,\n",
        "    class_mode = 'categorical'\n",
        ")\n",
        "\n",
        "val_generator = val_datagen.flow_from_directory(\n",
        "    val_dir,\n",
        "    target_size = (150, 150),\n",
        "    batch_size = 256,\n",
        "    class_mode = 'categorical'\n",
        ") "
      ],
      "execution_count": 0,
      "outputs": [
        {
          "output_type": "stream",
          "text": [
            "Found 60498 images belonging to 120 classes.\n",
            "Found 20622 images belonging to 120 classes.\n"
          ],
          "name": "stdout"
        }
      ]
    },
    {
      "cell_type": "code",
      "metadata": {
        "id": "atB2ht1ySciA",
        "colab_type": "code",
        "colab": {}
      },
      "source": [
        "model.compile(loss = 'categorical_crossentropy',\n",
        "              optimizer = RMSprop(),\n",
        "              metrics = ['accuracy']\n",
        "              )"
      ],
      "execution_count": 0,
      "outputs": []
    },
    {
      "cell_type": "code",
      "metadata": {
        "id": "nFJcdKhnq6D1",
        "colab_type": "code",
        "outputId": "91d894a0-5210-465f-efdb-0283f5679576",
        "colab": {
          "base_uri": "https://localhost:8080/",
          "height": 734
        }
      },
      "source": [
        "filepath = 'model.h5'\n",
        "\n",
        "checkpoint  = ModelCheckpoint(filepath, monitor = 'val_accuracy', verbose = 1)\n",
        "earlystop = EarlyStopping(monitor = 'val_accuracy', min_delta = 0, patience = 3, verbose =1, restore_best_weights = True) \n",
        "\n",
        "callback = [earlystop, checkpoint]\n",
        "\n",
        "history = model.fit_generator(\n",
        "              train_generator,\n",
        "              epochs = 15,\n",
        "              steps_per_epoch = train_generator.samples // train_generator.batch_size,\n",
        "              validation_data = val_generator,\n",
        "              validation_steps = val_generator.samples // val_generator.batch_size,\n",
        "              callbacks = callback,\n",
        "              verbose = 1,\n",
        "              shuffle = True\n",
        "          )"
      ],
      "execution_count": 0,
      "outputs": [
        {
          "output_type": "stream",
          "text": [
            "WARNING:tensorflow:From <ipython-input-11-5169c8306e33>:16: Model.fit_generator (from tensorflow.python.keras.engine.training) is deprecated and will be removed in a future version.\n",
            "Instructions for updating:\n",
            "Please use Model.fit, which supports generators.\n",
            "Epoch 1/15\n",
            "236/236 [==============================] - ETA: 0s - loss: 2.6059 - accuracy: 0.3739\n",
            "Epoch 00001: saving model to model.h5\n",
            "236/236 [==============================] - 419s 2s/step - loss: 2.6059 - accuracy: 0.3739 - val_loss: 2.9007 - val_accuracy: 0.3293\n",
            "Epoch 2/15\n",
            "236/236 [==============================] - ETA: 0s - loss: 0.7092 - accuracy: 0.8154\n",
            "Epoch 00002: saving model to model.h5\n",
            "236/236 [==============================] - 411s 2s/step - loss: 0.7092 - accuracy: 0.8154 - val_loss: 0.5647 - val_accuracy: 0.8352\n",
            "Epoch 3/15\n",
            "236/236 [==============================] - ETA: 0s - loss: 0.3002 - accuracy: 0.9209\n",
            "Epoch 00003: saving model to model.h5\n",
            "236/236 [==============================] - 410s 2s/step - loss: 0.3002 - accuracy: 0.9209 - val_loss: 0.4413 - val_accuracy: 0.8613\n",
            "Epoch 4/15\n",
            "236/236 [==============================] - ETA: 0s - loss: 0.1694 - accuracy: 0.9539\n",
            "Epoch 00004: saving model to model.h5\n",
            "236/236 [==============================] - 410s 2s/step - loss: 0.1694 - accuracy: 0.9539 - val_loss: 0.5953 - val_accuracy: 0.8623\n",
            "Epoch 5/15\n",
            "236/236 [==============================] - ETA: 0s - loss: 0.1181 - accuracy: 0.9669\n",
            "Epoch 00005: saving model to model.h5\n",
            "236/236 [==============================] - 408s 2s/step - loss: 0.1181 - accuracy: 0.9669 - val_loss: 1.2633 - val_accuracy: 0.7461\n",
            "Epoch 6/15\n",
            "236/236 [==============================] - ETA: 0s - loss: 0.0905 - accuracy: 0.9739\n",
            "Epoch 00006: saving model to model.h5\n",
            "236/236 [==============================] - 406s 2s/step - loss: 0.0905 - accuracy: 0.9739 - val_loss: 0.1525 - val_accuracy: 0.9564\n",
            "Epoch 7/15\n",
            "236/236 [==============================] - ETA: 0s - loss: 0.0720 - accuracy: 0.9797\n",
            "Epoch 00007: saving model to model.h5\n",
            "236/236 [==============================] - 406s 2s/step - loss: 0.0720 - accuracy: 0.9797 - val_loss: 0.3661 - val_accuracy: 0.9029\n",
            "Epoch 8/15\n",
            "236/236 [==============================] - ETA: 0s - loss: 0.0614 - accuracy: 0.9827\n",
            "Epoch 00008: saving model to model.h5\n",
            "236/236 [==============================] - 407s 2s/step - loss: 0.0614 - accuracy: 0.9827 - val_loss: 0.5500 - val_accuracy: 0.8973\n",
            "Epoch 9/15\n",
            "236/236 [==============================] - ETA: 0s - loss: 0.0531 - accuracy: 0.9845Restoring model weights from the end of the best epoch.\n",
            "\n",
            "Epoch 00009: saving model to model.h5\n",
            "236/236 [==============================] - 409s 2s/step - loss: 0.0531 - accuracy: 0.9845 - val_loss: 0.5227 - val_accuracy: 0.8764\n",
            "Epoch 00009: early stopping\n"
          ],
          "name": "stdout"
        }
      ]
    },
    {
      "cell_type": "code",
      "metadata": {
        "id": "QjHc9oI6sLcj",
        "colab_type": "code",
        "outputId": "12755410-77e6-4cca-9c35-2f5c5af2e110",
        "colab": {
          "base_uri": "https://localhost:8080/",
          "height": 263
        }
      },
      "source": [
        "acc = history.history['accuracy']\n",
        "val_acc = history.history['val_accuracy']\n",
        "\n",
        "epochs = range(len(acc))\n",
        "\n",
        "plt.plot(epochs, acc)\n",
        "plt.plot(epochs, val_acc)\n",
        "plt.title('Training and Validation Accuracy')\n",
        "plt.figure()"
      ],
      "execution_count": 0,
      "outputs": [
        {
          "output_type": "execute_result",
          "data": {
            "text/plain": [
              "<Figure size 432x288 with 0 Axes>"
            ]
          },
          "metadata": {
            "tags": []
          },
          "execution_count": 12
        },
        {
          "output_type": "display_data",
          "data": {
            "image/png": "[encoded data removed]",
            "text/plain": [
              "<Figure size 432x288 with 1 Axes>"
            ]
          },
          "metadata": {
            "tags": [],
            "needs_background": "light"
          }
        },
        {
          "output_type": "display_data",
          "data": {
            "text/plain": [
              "<Figure size 432x288 with 0 Axes>"
            ]
          },
          "metadata": {
            "tags": []
          }
        }
      ]
    }
  ]
}